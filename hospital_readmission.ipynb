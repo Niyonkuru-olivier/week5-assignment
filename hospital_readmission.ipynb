{
  "nbformat": 4,
  "nbformat_minor": 0,
  "metadata": {
    "colab": {
      "provenance": [],
      "authorship_tag": "ABX9TyMa3mX8RXtLzmm9kHnd6fjN",
      "include_colab_link": true
    },
    "kernelspec": {
      "name": "python3",
      "display_name": "Python 3"
    },
    "language_info": {
      "name": "python"
    }
  },
  "cells": [
    {
      "cell_type": "markdown",
      "metadata": {
        "id": "view-in-github",
        "colab_type": "text"
      },
      "source": [
        "<a href=\"https://colab.research.google.com/github/Niyonkuru-olivier/week5-assignment/blob/main/hospital_readmission.ipynb\" target=\"_parent\"><img src=\"https://colab.research.google.com/assets/colab-badge.svg\" alt=\"Open In Colab\"/></a>"
      ]
    },
    {
      "cell_type": "code",
      "execution_count": 2,
      "metadata": {
        "colab": {
          "base_uri": "https://localhost:8080/"
        },
        "id": "6U_kwnMHTJAl",
        "outputId": "f6c7819b-ed77-41f1-b129-34aac606cb4d"
      },
      "outputs": [
        {
          "output_type": "stream",
          "name": "stdout",
          "text": [
            "Confusion Matrix:\n",
            " [[142   0]\n",
            " [ 58   0]]\n",
            "\n",
            "Precision: 0.0\n",
            "Recall: 0.0\n",
            "\n",
            "Classification Report:\n",
            "               precision    recall  f1-score   support\n",
            "\n",
            "           0       0.71      1.00      0.83       142\n",
            "           1       0.00      0.00      0.00        58\n",
            "\n",
            "    accuracy                           0.71       200\n",
            "   macro avg       0.35      0.50      0.42       200\n",
            "weighted avg       0.50      0.71      0.59       200\n",
            "\n"
          ]
        }
      ],
      "source": [
        "import pandas as pd\n",
        "import numpy as np\n",
        "from sklearn.model_selection import train_test_split\n",
        "from sklearn.linear_model import LogisticRegression\n",
        "from sklearn.metrics import classification_report, confusion_matrix, precision_score, recall_score\n",
        "from sklearn.preprocessing import StandardScaler\n",
        "\n",
        "# Simulate dummy EHR dataset\n",
        "np.random.seed(42)\n",
        "n_samples = 1000\n",
        "\n",
        "data = pd.DataFrame({\n",
        "    'age': np.random.randint(30, 90, size=n_samples),\n",
        "    'length_of_stay': np.random.randint(1, 15, size=n_samples),\n",
        "    'num_prior_visits': np.random.randint(0, 10, size=n_samples),\n",
        "    'has_chronic_condition': np.random.choice([0, 1], size=n_samples),\n",
        "    'readmitted_30days': np.random.choice([0, 1], size=n_samples, p=[0.7, 0.3])\n",
        "})\n",
        "\n",
        "# Features and target\n",
        "X = data.drop('readmitted_30days', axis=1)\n",
        "y = data['readmitted_30days']\n",
        "\n",
        "# Standardize features\n",
        "scaler = StandardScaler()\n",
        "X_scaled = scaler.fit_transform(X)\n",
        "\n",
        "# Train/test split\n",
        "X_train, X_test, y_train, y_test = train_test_split(X_scaled, y, test_size=0.2, random_state=42)\n",
        "\n",
        "# Model training\n",
        "model = LogisticRegression()\n",
        "model.fit(X_train, y_train)\n",
        "\n",
        "# Evaluation\n",
        "y_pred = model.predict(X_test)\n",
        "\n",
        "conf_matrix = confusion_matrix(y_test, y_pred)\n",
        "precision = precision_score(y_test, y_pred, zero_division=0)\n",
        "recall = recall_score(y_test, y_pred, zero_division=0)\n",
        "report = classification_report(y_test, y_pred, zero_division=0)\n",
        "\n",
        "# Print results\n",
        "print(\"Confusion Matrix:\\n\", conf_matrix)\n",
        "print(\"\\nPrecision:\", precision)\n",
        "print(\"Recall:\", recall)\n",
        "print(\"\\nClassification Report:\\n\", report)"
      ]
    }
  ]
}